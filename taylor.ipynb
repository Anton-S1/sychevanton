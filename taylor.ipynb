{
 "cells": [
  {
   "cell_type": "code",
   "execution_count": 2,
   "metadata": {},
   "outputs": [
    {
     "name": "stdout",
     "output_type": "stream",
     "text": [
      "2.7182818284590455\n",
      "<function e at 0x00000236CFAED900> <numpy.vectorize object at 0x00000236D1B512D0>\n"
     ]
    },
    {
     "data": {
      "image/png": "[encoded data removed]",
      "text/plain": [
       "<Figure size 432x288 with 1 Axes>"
      ]
     },
     "metadata": {
      "needs_background": "light"
     },
     "output_type": "display_data"
    }
   ],
   "source": [
    "#  Программа считает значение е^x через ряд Тейлора\n",
    "import matplotlib.pyplot as plt\n",
    "import numpy as np\n",
    "\n",
    "ITERATIONS = 35\n",
    "\n",
    "\n",
    "def e(x):\n",
    "    x_pow = 1\n",
    "    multiplier = 1\n",
    "    partial_sum = 1\n",
    "    for n in range(1, ITERATIONS):\n",
    "        x_pow *= x ** 1\n",
    "        multiplier *= 1 / (1 * n)\n",
    "        partial_sum += x_pow * multiplier\n",
    "    return partial_sum\n",
    "\n",
    "\n",
    "print(e(1))\n",
    "vs = np.vectorize(e)\n",
    "print(e, vs)\n",
    "\n",
    "angles = np.r_[0:30:0.01]\n",
    "plt.plot(angles, np.exp(angles))\n",
    "plt.plot(angles, vs(angles))\n",
    "plt.show()\n"
   ]
  }
 ],
 "metadata": {
  "interpreter": {
   "hash": "aee8b7b246df8f9039afb4144a1f6fd8d2ca17a180786b69acc140d282b71a49"
  },
  "kernelspec": {
   "display_name": "Python 3 (ipykernel)",
   "language": "python",
   "name": "python3"
  },
  "language_info": {
   "codemirror_mode": {
    "name": "ipython",
    "version": 3
   },
   "file_extension": ".py",
   "mimetype": "text/x-python",
   "name": "python",
   "nbconvert_exporter": "python",
   "pygments_lexer": "ipython3",
   "version": "3.10.0"
  }
 },
 "nbformat": 4,
 "nbformat_minor": 4
}
